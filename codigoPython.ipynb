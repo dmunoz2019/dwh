{
 "cells": [
  {
   "cell_type": "code",
   "execution_count": 29,
   "id": "13b1538b",
   "metadata": {},
   "outputs": [],
   "source": [
    "import pandas as pd\n",
    "import matplotlib.pyplot as plt\n",
    "from dateutil.relativedelta import relativedelta\n"
   ]
  },
  {
   "cell_type": "code",
   "execution_count": 30,
   "id": "84a79cfc",
   "metadata": {},
   "outputs": [],
   "source": [
    "def eliminar_columna(tabla, columna):\n",
    "    if columna in tabla.columns:\n",
    "        tabla.drop(columna, axis=1, inplace=True)"
   ]
  },
  {
   "cell_type": "code",
   "execution_count": 31,
   "id": "ee9f2821",
   "metadata": {},
   "outputs": [],
   "source": [
    "def limpiar_datos():\n",
    "    # Borrar la columna NameStyle de DimCustomer\n",
    "    eliminar_columna(DimCustomer, \"NameStyle\")\n",
    "\n",
    "    # Borrar las columnas SpanishCountryRegionName y FrenchCountryRegionName de DimGeography\n",
    "    eliminar_columna(DimGeography, \"SpanishCountryRegionName\")\n",
    "    eliminar_columna(DimGeography, \"FrenchCountryRegionName\")\n",
    "\n",
    "    # Borrar las columnas FrenchProductName y FinishedGoodsFlag de DimProduct\n",
    "    eliminar_columna(DimProduct, \"FrenchProductName\")\n",
    "    eliminar_columna(DimProduct, \"FinishedGoodsFlag\")\n",
    "\n",
    "    # Borrar las columnas FrenchProductCategoryName y ProductCategoryAlternateKey de DimProductCategory\n",
    "    eliminar_columna(DimProductCategory, \"FrenchProductCategoryName\")\n",
    "    eliminar_columna(DimProductCategory, \"ProductCategoryAlternateKey\")\n",
    "\n",
    "    # Borrar la columna ProductSubcategoryAlternateKey de DimProductSubCategory\n",
    "    eliminar_columna(DimProductSubCategory, \"ProductSubcategoryAlternateKey\")\n",
    "\n",
    "    # Borrar la columna FrenchPromotionName de DimPromotion\n",
    "    eliminar_columna(DimPromotion, \"FrenchPromotionName\")"
   ]
  },
  {
   "cell_type": "code",
   "execution_count": 32,
   "id": "69c05c0a",
   "metadata": {},
   "outputs": [],
   "source": [
    "def calcular_edad(fecha_nacimiento):\n",
    "    fecha_actual = pd.to_datetime('today').date()\n",
    "    edad = relativedelta(fecha_actual, fecha_nacimiento).years\n",
    "    return edad"
   ]
  },
  {
   "cell_type": "code",
   "execution_count": 33,
   "id": "51401163",
   "metadata": {},
   "outputs": [],
   "source": [
    "# Cargar los archivos CSV en los DataFrames correspondientes\n",
    "DimCustomer = pd.read_csv(r\"C:\\Users\\dmuno\\Limpieza\\DimCustomer.csv\")\n",
    "DimGeography = pd.read_csv(r\"C:\\Users\\dmuno\\Limpieza\\DimGeography.csv\")\n",
    "DimProduct = pd.read_csv(r\"C:\\Users\\dmuno\\Limpieza\\DimProduct.csv\")\n",
    "DimProductCategory = pd.read_csv(r\"C:\\Users\\dmuno\\Limpieza\\DimProductCategory.csv\")\n",
    "DimProductSubCategory = pd.read_csv(r\"C:\\Users\\dmuno\\Limpieza\\DimProductSubCategory.csv\")\n",
    "DimPromotion = pd.read_csv(r\"C:\\Users\\dmuno\\Limpieza\\DimPromotion.csv\")"
   ]
  },
  {
   "cell_type": "code",
   "execution_count": 34,
   "id": "d42eff73",
   "metadata": {},
   "outputs": [],
   "source": [
    "DimCustomer['BirthDate'] = pd.to_datetime(DimCustomer['BirthDate']).dt.date\n",
    "DimCustomer['Age'] = DimCustomer['BirthDate'].apply(calcular_edad)\n",
    "\n",
    "# Llamar a la función para limpiar los datos\n",
    "limpiar_datos()\n"
   ]
  },
  {
   "cell_type": "code",
   "execution_count": 35,
   "id": "610dcd80",
   "metadata": {},
   "outputs": [],
   "source": [
    "# Guardar los DataFrames modificados en nuevos archivos CSV si deseas conservar los cambios\n",
    "DimCustomer.to_csv(\"DimCustomer_cleaned.csv\", index=False)\n",
    "DimGeography.to_csv(\"DimGeography_cleaned.csv\", index=False)\n",
    "DimProduct.to_csv(\"DimProduct_cleaned.csv\", index=False)\n",
    "DimProductCategory.to_csv(\"DimProductCategory_cleaned.csv\", index=False)\n",
    "DimProductSubCategory.to_csv(\"DimProductSubCategory_cleaned.csv\", index=False)\n",
    "DimPromotion.to_csv(\"DimPromotion_cleaned.csv\", index=False)"
   ]
  },
  {
   "cell_type": "code",
   "execution_count": 23,
   "id": "8e069428",
   "metadata": {},
   "outputs": [],
   "source": [
    "DimCustomer = pd.read_csv(\"DimCustomer_cleaned.csv\")\n",
    "DimGeography = pd.read_csv(\"DimGeography_cleaned.csv\")\n",
    "DimProduct = pd.read_csv(\"DimProduct_cleaned.csv\")\n",
    "DimProductCategory = pd.read_csv(\"DimProductCategory_cleaned.csv\")\n",
    "DimProductSubCategory = pd.read_csv(\"DimProductSubCategory_cleaned.csv\")\n",
    "DimPromotion = pd.read_csv(\"DimPromotion_cleaned.csv\")"
   ]
  },
  {
   "cell_type": "code",
   "execution_count": null,
   "id": "84cd0d47",
   "metadata": {},
   "outputs": [],
   "source": []
  },
  {
   "cell_type": "code",
   "execution_count": null,
   "id": "e5604192",
   "metadata": {},
   "outputs": [],
   "source": []
  }
 ],
 "metadata": {
  "kernelspec": {
   "display_name": "Python 3 (ipykernel)",
   "language": "python",
   "name": "python3"
  },
  "language_info": {
   "codemirror_mode": {
    "name": "ipython",
    "version": 3
   },
   "file_extension": ".py",
   "mimetype": "text/x-python",
   "name": "python",
   "nbconvert_exporter": "python",
   "pygments_lexer": "ipython3",
   "version": "3.10.9"
  }
 },
 "nbformat": 4,
 "nbformat_minor": 5
}
